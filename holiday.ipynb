{
 "cells": [
  {
   "cell_type": "code",
   "execution_count": 1,
   "metadata": {},
   "outputs": [],
   "source": [
    "import datetime\n",
    "import json\n",
    "from bs4 import BeautifulSoup\n",
    "import requests\n",
    "from dataclasses import dataclass"
   ]
  },
  {
   "cell_type": "code",
   "execution_count": 2,
   "metadata": {},
   "outputs": [],
   "source": [
    "class Holiday:\n",
    "    \"enter date\"\n",
    "      \n",
    "    def __init__(self,name, date):\n",
    "        #Your Code Here   \n",
    "        self.name = name\n",
    "        self.date = datetime.strptime(date, '%Y-%m-%d').date()     \n",
    "    \n",
    "    def __str__ (self):\n",
    "        # String output\n",
    "        # Holiday output when printed.\n",
    "        return f'{self.name} ({self.date})'\n",
    "    "
   ]
  },
  {
   "cell_type": "code",
   "execution_count": 20,
   "metadata": {},
   "outputs": [],
   "source": [
    "class HolidayList:\n",
    "    def __init__(self):\n",
    "       self.innerHolidays = []\n",
    "\n",
    "    def menu(self):\n",
    "        print('Holidays')\n",
    "        print('-----------')\n",
    "        print('1. Add a holiday')\n",
    "        print('2. Remove a holiday')\n",
    "        print('3. Save holiday list')\n",
    "        print('4. View holidays')\n",
    "        print('5. Exit')\n",
    "\n",
    "\n",
    "    def addHoliday(self,holidayObj):\n",
    "        # Make sure holidayObj is an Holiday Object by checking the type\n",
    "        # Use innerHolidays.append(holidayObj) to add holiday\n",
    "        # print to the user that you added a holiday\n",
    "        if type(holidayObj) == Holiday:\n",
    "            self.innerHolidays.append(holidayObj)\n",
    "        else:\n",
    "            print('Not an accurate holiday')\n",
    "\n",
    "    def findHoliday(HolidayName, Date):\n",
    "        pass\n",
    "        # Find Holiday in innerHolidays\n",
    "        # Return Holiday\n",
    "\n",
    "    def removeHoliday(HolidayName, Date):\n",
    "        pass\n",
    "        # Find Holiday in innerHolidays by searching the name and date combination.\n",
    "        # remove the Holiday from innerHolidays\n",
    "        # inform user you deleted the holiday\n",
    "\n",
    "    def read_json(self,filelocation):\n",
    "        # Read in things from json file location\n",
    "        # Use addHoliday function to add holidays to inner list.\n",
    "        with open(\"holidays.json\") as f:\n",
    "            holidays = json.load(f)\n",
    "            holidays_list = dict['holidays']\n",
    "        for i in holidays_list['holidays']:\n",
    "            holidayObj = Holiday(i['name'],i['date'])\n",
    "            self.addHoliday(holidayObj)\n",
    "\n",
    "\n",
    "    def save_to_json(self, filelocation):\n",
    "        holidays_out = json.dumps(self.innerHolidays, indent = 1)\n",
    "        with open('holidays.json') as f:\n",
    "            f.write(holidays_out)\n",
    "        # Write out json file to selected file.\n",
    "        \n",
    "    def scrapeHolidays(self):\n",
    "            # Scrape Holidays from https://www.timeanddate.com/holidays/us/ \n",
    "            # Remember, 2 previous years, current year, and 2  years into the future. You can scrape multiple years by adding year to the timeanddate URL. For example https://www.timeanddate.com/holidays/us/2022\n",
    "            # Check to see if name and date of holiday is in innerHolidays array\n",
    "            # Add non-duplicates to innerHolidays\n",
    "            # Handle any exceptions.\n",
    "        for year in range(2020,2025):\n",
    "            response = requests.get(f'https://www.timeanddate.com/holidays/us/{year}')\n",
    "            soup = BeautifulSoup(response.text, 'html.parser')\n",
    "            table = soup.find('tbody')\n",
    "            for row in table.find_all('tr', attrs={'class':'showrow'}):\n",
    "                webDate = row.find('th').string\n",
    "                holiday_name = row.find('a').text\n",
    "                date = str(year) + webDate\n",
    "                convertDate = datetime.strptime(date,'%Y %b %d').date()\n",
    "                holiday = {}\n",
    "                holiday = Holiday(holiday_name['name'], convertDate['date'])\n",
    "                self.addHoliday(holiday)\n",
    "   \n",
    "\n",
    "    def format_date(input):\n",
    "        datetime.strptime(input, '%b %d %Y').strftime('%Y-%m-%d')\n",
    "        pass\n",
    "\n",
    "\n",
    "    def numHolidays(self):\n",
    "        # Return the total number of holidays in innerHolidays\n",
    "        print(len(self.innerHolidays))\n",
    "    \n",
    "    # def filter_holidays_by_week(year, week_number):\n",
    "    #     # Use a Lambda function to filter by week number and save this as holidays, use the filter on innerHolidays\n",
    "    #     # Week number is part of the the Datetime object\n",
    "    #     # Cast filter results as list\n",
    "    #     # return your holidays\n",
    "    #     pass\n",
    "\n",
    "    # def displayHolidaysInWeek(holidayList):\n",
    "    #     # Use your filter_holidays_by_week to get list of holidays within a week as a parameter\n",
    "    #     # Output formated holidays in the week. \n",
    "    #     # * Remember to use the holiday __str__ method.\n",
    "    #     pass\n",
    "\n",
    "    # def getWeather(weekNum):\n",
    "    #     # Convert weekNum to range between two days\n",
    "    #     # Use Try / Except to catch problems\n",
    "    #     # Query API for weather in that week range\n",
    "    #     # Format weather information and return weather string.\n",
    "    #     pass\n",
    "\n",
    "    def viewCurrentWeek():\n",
    "        # Use the Datetime Module to look up current week and year\n",
    "        # Use your filter_holidays_by_week function to get the list of holidays \n",
    "        # for the current week/year\n",
    "        # Use your displayHolidaysInWeek function to display the holidays in the week\n",
    "        # Ask user if they want to get the weather\n",
    "        # If yes, use your getWeather function and display results\n",
    "        pass\n"
   ]
  },
  {
   "cell_type": "code",
   "execution_count": 56,
   "metadata": {},
   "outputs": [],
   "source": [
    "#def read_json(self,filelocation):\n",
    "    # Read in things from json file location\n",
    "    # Use addHoliday function to add holidays to inner list.\n",
    "with open(\"holidays.json\") as f:\n",
    "    holidays = json.load(f)\n",
    "    #holidays_list = dict['holidays']\n",
    "for i in holidays['holidays']:\n",
    "    #holidayObj = Holiday(i['name'],i['date'])\n",
    "    holiday = i['name']\n",
    "    date = i['date']\n",
    "    date = date.split('-')\n",
    "    date = datetime.date(int(date[0]), int(date[1]), int(date[2]))\n",
    "    #self.addHoliday(holidayObj)\n",
    "    "
   ]
  },
  {
   "cell_type": "code",
   "execution_count": 54,
   "metadata": {},
   "outputs": [
    {
     "ename": "TypeError",
     "evalue": "There are no type variables left in dict['holidays']",
     "output_type": "error",
     "traceback": [
      "\u001b[1;31m---------------------------------------------------------------------------\u001b[0m",
      "\u001b[1;31mTypeError\u001b[0m                                 Traceback (most recent call last)",
      "\u001b[1;32m~\\AppData\\Local\\Temp\\ipykernel_12244\\818930803.py\u001b[0m in \u001b[0;36m<module>\u001b[1;34m\u001b[0m\n\u001b[0;32m      9\u001b[0m     \u001b[0mholidays\u001b[0m \u001b[1;33m=\u001b[0m \u001b[0mjson\u001b[0m\u001b[1;33m.\u001b[0m\u001b[0mload\u001b[0m\u001b[1;33m(\u001b[0m\u001b[0mf\u001b[0m\u001b[1;33m)\u001b[0m\u001b[1;33m\u001b[0m\u001b[1;33m\u001b[0m\u001b[0m\n\u001b[0;32m     10\u001b[0m     \u001b[0mholidays_list\u001b[0m \u001b[1;33m=\u001b[0m \u001b[0mdict\u001b[0m\u001b[1;33m[\u001b[0m\u001b[1;34m'holidays'\u001b[0m\u001b[1;33m]\u001b[0m\u001b[1;33m\u001b[0m\u001b[1;33m\u001b[0m\u001b[0m\n\u001b[1;32m---> 11\u001b[1;33m \u001b[1;32mfor\u001b[0m \u001b[0mi\u001b[0m \u001b[1;32min\u001b[0m \u001b[0mholidays_list\u001b[0m\u001b[1;33m[\u001b[0m\u001b[1;34m'holidays'\u001b[0m\u001b[1;33m]\u001b[0m\u001b[1;33m:\u001b[0m\u001b[1;33m\u001b[0m\u001b[1;33m\u001b[0m\u001b[0m\n\u001b[0m\u001b[0;32m     12\u001b[0m     \u001b[0mholidayObj\u001b[0m \u001b[1;33m=\u001b[0m \u001b[0mHoliday\u001b[0m\u001b[1;33m(\u001b[0m\u001b[0mi\u001b[0m\u001b[1;33m[\u001b[0m\u001b[1;34m'name'\u001b[0m\u001b[1;33m]\u001b[0m\u001b[1;33m,\u001b[0m\u001b[0mi\u001b[0m\u001b[1;33m[\u001b[0m\u001b[1;34m'date'\u001b[0m\u001b[1;33m]\u001b[0m\u001b[1;33m)\u001b[0m\u001b[1;33m\u001b[0m\u001b[1;33m\u001b[0m\u001b[0m\n\u001b[0;32m     13\u001b[0m     \u001b[1;31m#self.addHoliday(holidayObj)\u001b[0m\u001b[1;33m\u001b[0m\u001b[1;33m\u001b[0m\u001b[0m\n",
      "\u001b[1;31mTypeError\u001b[0m: There are no type variables left in dict['holidays']"
     ]
    }
   ],
   "source": [
    "# class HolidayList:\n",
    "#     def __init__(self):\n",
    "#        self.innerHolidays = []        \n",
    "        \n",
    "        #def read_json(self,filelocation):\n",
    "        # Read in things from json file location\n",
    "        # Use addHoliday function to add holidays to inner list.\n",
    "with open(\"holidays.json\") as f:\n",
    "    holidays = json.load(f)\n",
    "    holidays_list = dict['holidays']\n",
    "for i in holidays_list['holidays']:\n",
    "    holidayObj = Holiday(i['name'],i['date'])\n",
    "    #self.addHoliday(holidayObj)\n",
    "    \n",
    "    \n",
    "    \n",
    "    #def save_to_json(self, filelocation):\n",
    "# holidays_out = json.dumps(innerHolidays, indent = 1)\n",
    "# with open('holidays.json') as f:\n",
    "#     f.write(holidays_out)"
   ]
  },
  {
   "cell_type": "code",
   "execution_count": null,
   "metadata": {},
   "outputs": [],
   "source": [
    "# response = requests.get(f'https://www.timeanddate.com/holidays/us/{year}')\n",
    "# soup = BeautifulSoup(response.text, 'html.parser')\n",
    "# table = soup.find('tbody')\n",
    "url = 'https://www.timeanddate.com/holidays/us/'\n",
    "response = requests.get(url)\n",
    "soup = BeautifulSoup(response.text, 'html.parser')\n",
    "table = soup.find('table', attrs={'id':'holidays-table'})\n",
    "tbody = table.find('tbody')\n",
    "tbody.find_all('tr')\n"
   ]
  },
  {
   "cell_type": "code",
   "execution_count": 53,
   "metadata": {},
   "outputs": [
    {
     "data": {
      "text/plain": [
       "{}"
      ]
     },
     "execution_count": 53,
     "metadata": {},
     "output_type": "execute_result"
    }
   ],
   "source": [
    "#def scraping():\n",
    "test = {}\n",
    "for year in range(2020,2025):\n",
    "    response = requests.get(f'https://www.timeanddate.com/holidays/us/{year}')\n",
    "    soup = BeautifulSoup(response.text, 'html.parser')\n",
    "    table = soup.find('tbody')\n",
    "    for row in table.find_all('tr', attrs={'class':'showrow'}):\n",
    "        webDate = row.find('th').string\n",
    "        holiday_name = row.find('a').text\n",
    "        date = str(year) + webDate\n",
    "        convertDate = datetime.strptime(date,'%Y %b %d').date()\n",
    "        #holiday = {}\n",
    "        holiday = Holiday(holiday_name['name'], convertDate['date'])\n",
    "        #self.addHoliday(holiday)\n",
    "        test.append(holiday)\n",
    "test"
   ]
  },
  {
   "cell_type": "code",
   "execution_count": null,
   "metadata": {},
   "outputs": [],
   "source": [
    "\n"
   ]
  },
  {
   "cell_type": "code",
   "execution_count": null,
   "metadata": {},
   "outputs": [],
   "source": []
  },
  {
   "cell_type": "code",
   "execution_count": null,
   "metadata": {},
   "outputs": [],
   "source": []
  },
  {
   "cell_type": "code",
   "execution_count": null,
   "metadata": {},
   "outputs": [],
   "source": []
  }
 ],
 "metadata": {
  "kernelspec": {
   "display_name": "base",
   "language": "python",
   "name": "python3"
  },
  "language_info": {
   "codemirror_mode": {
    "name": "ipython",
    "version": 3
   },
   "file_extension": ".py",
   "mimetype": "text/x-python",
   "name": "python",
   "nbconvert_exporter": "python",
   "pygments_lexer": "ipython3",
   "version": "3.9.13"
  },
  "orig_nbformat": 4,
  "vscode": {
   "interpreter": {
    "hash": "1643639e6d89f06a3b88736f47d07c6c9b55a5b70383cc3272fa94752bd05ca9"
   }
  }
 },
 "nbformat": 4,
 "nbformat_minor": 2
}
