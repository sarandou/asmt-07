{
 "cells": [
  {
   "cell_type": "code",
   "execution_count": 1,
   "metadata": {},
   "outputs": [],
   "source": [
    "import requests\n",
    "from bs4 import BeautifulSoup"
   ]
  },
  {
   "cell_type": "code",
   "execution_count": 2,
   "metadata": {},
   "outputs": [],
   "source": [
    "url = 'http://news.ycombinator.com/active'\n",
    "res = requests.get(url)"
   ]
  },
  {
   "cell_type": "code",
   "execution_count": 3,
   "metadata": {},
   "outputs": [
    {
     "data": {
      "text/plain": [
       "str"
      ]
     },
     "execution_count": 3,
     "metadata": {},
     "output_type": "execute_result"
    }
   ],
   "source": [
    "type(res.text)"
   ]
  },
  {
   "cell_type": "code",
   "execution_count": 4,
   "metadata": {},
   "outputs": [],
   "source": [
    "soup = BeautifulSoup(res.text, 'html.parser')"
   ]
  },
  {
   "cell_type": "code",
   "execution_count": 5,
   "metadata": {},
   "outputs": [
    {
     "data": {
      "text/plain": [
       "<table border=\"0\" cellpadding=\"0\" cellspacing=\"0\">\n",
       "<tr class=\"athing\" id=\"34008383\">\n",
       "<td align=\"right\" class=\"title\" valign=\"top\"><span class=\"rank\">1.</span></td> <td class=\"votelinks\" valign=\"top\"><center><a href=\"vote?id=34008383&amp;how=up&amp;goto=active\" id=\"up_34008383\"><div class=\"votearrow\" title=\"upvote\"></div></a></center></td><td class=\"title\"><span class=\"titleline\"><a href=\"https://www.washingtonpost.com/media/2022/12/15/twitter-journalists-suspended-musk/\">Twitter applies 7-day suspension to half a dozen journalists</a><span class=\"sitebit comhead\"> (<a href=\"from?site=washingtonpost.com\"><span class=\"sitestr\">washingtonpost.com</span></a>)</span></span></td></tr><tr><td colspan=\"2\"></td><td class=\"subtext\"><span class=\"subline\">\n",
       "<span class=\"score\" id=\"score_34008383\">1058 points</span> by <a class=\"hnuser\" href=\"user?id=prawn\">prawn</a> <span class=\"age\" title=\"2022-12-16T01:32:33\"><a href=\"item?id=34008383\">17 hours ago</a></span> <span id=\"unv_34008383\"></span> | <a href=\"item?id=34008383\">1514 comments</a> </span>\n",
       "</td></tr>\n",
       "<tr class=\"spacer\" style=\"height:5px\"></tr>\n",
       "<tr class=\"athing\" id=\"34010065\">\n",
       "<td align=\"right\" class=\"title\" valign=\"top\"><span class=\"rank\">2.</span></td> <td class=\"votelinks\" valign=\"top\"><center><a href=\"vote?id=34010065&amp;how=up&amp;goto=active\" id=\"up_34010065\"><div class=\"votearrow\" title=\"upvote\"></div></a></center></td><td class=\"title\"><span class=\"titleline\"><a href=\"https://github.com/atom/atom\">Atom was archived today</a><span class=\"sitebit comhead\"> (<a href=\"from?site=github.com/atom\"><span class=\"sitestr\">github.com/atom</span></a>)</span></span></td></tr><tr><td colspan=\"2\"></td><td class=\"subtext\"><span class=\"subline\">\n",
       "<span class=\"score\" id=\"score_34010065\">727 points</span> by <a class=\"hnuser\" href=\"user?id=Bondi_Blue\">Bondi_Blue</a> <span class=\"age\" title=\"2022-12-16T04:12:16\"><a href=\"item?id=34010065\">15 hours ago</a></span> <span id=\"unv_34010065\"></span> | <a href=\"item?id=34010065\">533 comments</a> </span>\n",
       "</td></tr>\n",
       "<tr class=\"spacer\" style=\"height:5px\"></tr>\n",
       "<tr class=\"athing\" id=\"34016389\">\n",
       "<td align=\"right\" class=\"title\" valign=\"top\"><span class=\"rank\">3.</span></td> <td class=\"votelinks\" valign=\"top\"><center><a href=\"vote?id=34016389&amp;how=up&amp;goto=active\" id=\"up_34016389\"><div class=\"votearrow\" title=\"upvote\"></div></a></center></td><td class=\"title\"><span class=\"titleline\"><a href=\"https://old.reddit.com/r/tifu/comments/zndbku/tifu_by_accidentally_buying_two_google_pixels_and/\">Tell HN: Doing a chargeback against Google will get your account banned</a><span class=\"sitebit comhead\"> (<a href=\"from?site=reddit.com\"><span class=\"sitestr\">reddit.com</span></a>)</span></span></td></tr><tr><td colspan=\"2\"></td><td class=\"subtext\"><span class=\"subline\">\n",
       "<span class=\"score\" id=\"score_34016389\">325 points</span> by <a class=\"hnuser\" href=\"user?id=theturtletalks\">theturtletalks</a> <span class=\"age\" title=\"2022-12-16T16:22:19\"><a href=\"item?id=34016389\">3 hours ago</a></span> <span id=\"unv_34016389\"></span> | <a href=\"item?id=34016389\">235 comments</a> </span>\n",
       "</td></tr>\n",
       "<tr class=\"spacer\" style=\"height:5px\"></tr>\n",
       "<tr class=\"athing\" id=\"34014377\">\n",
       "<td align=\"right\" class=\"title\" valign=\"top\"><span class=\"rank\">4.</span></td> <td class=\"votelinks\" valign=\"top\"><center><a href=\"vote?id=34014377&amp;how=up&amp;goto=active\" id=\"up_34014377\"><div class=\"votearrow\" title=\"upvote\"></div></a></center></td><td class=\"title\"><span class=\"titleline\"><a href=\"https://www.archives.gov/research/jfk/release2022\">JFK Assassination Records – 2022 Additional Documents Release</a><span class=\"sitebit comhead\"> (<a href=\"from?site=archives.gov\"><span class=\"sitestr\">archives.gov</span></a>)</span></span></td></tr><tr><td colspan=\"2\"></td><td class=\"subtext\"><span class=\"subline\">\n",
       "<span class=\"score\" id=\"score_34014377\">109 points</span> by <a class=\"hnuser\" href=\"user?id=bookofjoe\">bookofjoe</a> <span class=\"age\" title=\"2022-12-16T13:42:27\"><a href=\"item?id=34014377\">5 hours ago</a></span> <span id=\"unv_34014377\"></span> | <a href=\"item?id=34014377\">243 comments</a> </span>\n",
       "</td></tr>\n",
       "<tr class=\"spacer\" style=\"height:5px\"></tr>\n",
       "<tr class=\"athing\" id=\"34013195\">\n",
       "<td align=\"right\" class=\"title\" valign=\"top\"><span class=\"rank\">5.</span></td> <td class=\"votelinks\" valign=\"top\"><center><a href=\"vote?id=34013195&amp;how=up&amp;goto=active\" id=\"up_34013195\"><div class=\"votearrow\" title=\"upvote\"></div></a></center></td><td class=\"title\"><span class=\"titleline\"><a href=\"https://fabiensanglard.net/a_linux_evening/index.html\">A Linux Evening</a><span class=\"sitebit comhead\"> (<a href=\"from?site=fabiensanglard.net\"><span class=\"sitestr\">fabiensanglard.net</span></a>)</span></span></td></tr><tr><td colspan=\"2\"></td><td class=\"subtext\"><span class=\"subline\">\n",
       "<span class=\"score\" id=\"score_34013195\">493 points</span> by <a class=\"hnuser\" href=\"user?id=ingve\">ingve</a> <span class=\"age\" title=\"2022-12-16T11:09:24\"><a href=\"item?id=34013195\">8 hours ago</a></span> <span id=\"unv_34013195\"></span> | <a href=\"item?id=34013195\">219 comments</a> </span>\n",
       "</td></tr>\n",
       "<tr class=\"spacer\" style=\"height:5px\"></tr>\n",
       "<tr class=\"athing\" id=\"34010112\">\n",
       "<td align=\"right\" class=\"title\" valign=\"top\"><span class=\"rank\">6.</span></td> <td class=\"votelinks\" valign=\"top\"><center><a href=\"vote?id=34010112&amp;how=up&amp;goto=active\" id=\"up_34010112\"><div class=\"votearrow\" title=\"upvote\"></div></a></center></td><td class=\"title\"><span class=\"titleline\"><a href=\"https://mastodon.social/@danluu/109521316258129814\">Twitter has banned Mastodon links in name and bio for being “malware”</a><span class=\"sitebit comhead\"> (<a href=\"from?site=mastodon.social\"><span class=\"sitestr\">mastodon.social</span></a>)</span></span></td></tr><tr><td colspan=\"2\"></td><td class=\"subtext\"><span class=\"subline\">\n",
       "<span class=\"score\" id=\"score_34010112\">571 points</span> by <a class=\"hnuser\" href=\"user?id=luu\">luu</a> <span class=\"age\" title=\"2022-12-16T04:16:47\"><a href=\"item?id=34010112\">15 hours ago</a></span> <span id=\"unv_34010112\"></span> | <a href=\"item?id=34010112\">315 comments</a> </span>\n",
       "</td></tr>\n",
       "<tr class=\"spacer\" style=\"height:5px\"></tr>\n",
       "<tr class=\"athing\" id=\"34014956\">\n",
       "<td align=\"right\" class=\"title\" valign=\"top\"><span class=\"rank\">7.</span></td> <td class=\"votelinks\" valign=\"top\"><center><a href=\"vote?id=34014956&amp;how=up&amp;goto=active\" id=\"up_34014956\"><div class=\"votearrow\" title=\"upvote\"></div></a></center></td><td class=\"title\"><span class=\"titleline\"><a href=\"https://www.sci.news/medicine/honey-cardiometabolic-risks-11401.html\">Honey consumption improves blood sugar and cholesterol levels, study suggests</a><span class=\"sitebit comhead\"> (<a href=\"from?site=sci.news\"><span class=\"sitestr\">sci.news</span></a>)</span></span></td></tr><tr><td colspan=\"2\"></td><td class=\"subtext\"><span class=\"subline\">\n",
       "<span class=\"score\" id=\"score_34014956\">237 points</span> by <a class=\"hnuser\" href=\"user?id=WaitWaitWha\">WaitWaitWha</a> <span class=\"age\" title=\"2022-12-16T14:39:58\"><a href=\"item?id=34014956\">4 hours ago</a></span> <span id=\"unv_34014956\"></span> | <a href=\"item?id=34014956\">178 comments</a> </span>\n",
       "</td></tr>\n",
       "<tr class=\"spacer\" style=\"height:5px\"></tr>\n",
       "<tr class=\"athing\" id=\"34011470\">\n",
       "<td align=\"right\" class=\"title\" valign=\"top\"><span class=\"rank\">8.</span></td> <td class=\"votelinks\" valign=\"top\"><center><a href=\"vote?id=34011470&amp;how=up&amp;goto=active\" id=\"up_34011470\"><div class=\"votearrow\" title=\"upvote\"></div></a></center></td><td class=\"title\"><span class=\"titleline\"><a href=\"https://www.theregister.com/2022/12/15/new_ibm_power_cpu_for_oracle/\">IBM creates 24-core Power chip so customers can exploit Oracle database license</a><span class=\"sitebit comhead\"> (<a href=\"from?site=theregister.com\"><span class=\"sitestr\">theregister.com</span></a>)</span></span></td></tr><tr><td colspan=\"2\"></td><td class=\"subtext\"><span class=\"subline\">\n",
       "<span class=\"score\" id=\"score_34011470\">199 points</span> by <a class=\"hnuser\" href=\"user?id=jerryjerryjerry\">jerryjerryjerry</a> <span class=\"age\" title=\"2022-12-16T06:53:23\"><a href=\"item?id=34011470\">12 hours ago</a></span> <span id=\"unv_34011470\"></span> | <a href=\"item?id=34011470\">192 comments</a> </span>\n",
       "</td></tr>\n",
       "<tr class=\"spacer\" style=\"height:5px\"></tr>\n",
       "<tr class=\"athing\" id=\"34013000\">\n",
       "<td align=\"right\" class=\"title\" valign=\"top\"><span class=\"rank\">9.</span></td> <td class=\"votelinks\" valign=\"top\"><center><a href=\"vote?id=34013000&amp;how=up&amp;goto=active\" id=\"up_34013000\"><div class=\"votearrow\" title=\"upvote\"></div></a></center></td><td class=\"title\"><span class=\"titleline\"><a href=\"https://www.theguardian.com/world/2022/dec/16/huge-cylindrical-aquarium-housing-1500-exotic-fish-bursts-in-berlin\">Huge cylindrical aquarium housing 1,500 exotic fish bursts in Berlin</a><span class=\"sitebit comhead\"> (<a href=\"from?site=theguardian.com\"><span class=\"sitestr\">theguardian.com</span></a>)</span></span></td></tr><tr><td colspan=\"2\"></td><td class=\"subtext\"><span class=\"subline\">\n",
       "<span class=\"score\" id=\"score_34013000\">202 points</span> by <a class=\"hnuser\" href=\"user?id=patrickdet\">patrickdet</a> <span class=\"age\" title=\"2022-12-16T10:43:14\"><a href=\"item?id=34013000\">8 hours ago</a></span> <span id=\"unv_34013000\"></span> | <a href=\"item?id=34013000\">189 comments</a> </span>\n",
       "</td></tr>\n",
       "<tr class=\"spacer\" style=\"height:5px\"></tr>\n",
       "<tr class=\"athing\" id=\"34015330\">\n",
       "<td align=\"right\" class=\"title\" valign=\"top\"><span class=\"rank\">10.</span></td> <td class=\"votelinks\" valign=\"top\"><center><a href=\"vote?id=34015330&amp;how=up&amp;goto=active\" id=\"up_34015330\"><div class=\"votearrow\" title=\"upvote\"></div></a></center></td><td class=\"title\"><span class=\"titleline\"><a href=\"https://jackdevanney.substack.com/p/nuclear-power-is-too-slow\">Nuclear power is too slow</a><span class=\"sitebit comhead\"> (<a href=\"from?site=jackdevanney.substack.com\"><span class=\"sitestr\">jackdevanney.substack.com</span></a>)</span></span></td></tr><tr><td colspan=\"2\"></td><td class=\"subtext\"><span class=\"subline\">\n",
       "<span class=\"score\" id=\"score_34015330\">51 points</span> by <a class=\"hnuser\" href=\"user?id=jseliger\">jseliger</a> <span class=\"age\" title=\"2022-12-16T15:07:27\"><a href=\"item?id=34015330\">4 hours ago</a></span> <span id=\"unv_34015330\"></span> | <a href=\"item?id=34015330\">132 comments</a> </span>\n",
       "</td></tr>\n",
       "<tr class=\"spacer\" style=\"height:5px\"></tr>\n",
       "<tr class=\"athing\" id=\"34014519\">\n",
       "<td align=\"right\" class=\"title\" valign=\"top\"><span class=\"rank\">11.</span></td> <td class=\"votelinks\" valign=\"top\"><center><a href=\"vote?id=34014519&amp;how=up&amp;goto=active\" id=\"up_34014519\"><div class=\"votearrow\" title=\"upvote\"></div></a></center></td><td class=\"title\"><span class=\"titleline\"><a href=\"https://element.io/blog/bundesmessenger-is-a-milestone-in-germanys-ground-breaking-vision/\">BundesMessenger is a milestone in Germany’s ground-breaking vision</a><span class=\"sitebit comhead\"> (<a href=\"from?site=element.io\"><span class=\"sitestr\">element.io</span></a>)</span></span></td></tr><tr><td colspan=\"2\"></td><td class=\"subtext\"><span class=\"subline\">\n",
       "<span class=\"score\" id=\"score_34014519\">344 points</span> by <a class=\"hnuser\" href=\"user?id=nickexyz\">nickexyz</a> <span class=\"age\" title=\"2022-12-16T14:01:38\"><a href=\"item?id=34014519\">5 hours ago</a></span> <span id=\"unv_34014519\"></span> | <a href=\"item?id=34014519\">124 comments</a> </span>\n",
       "</td></tr>\n",
       "<tr class=\"spacer\" style=\"height:5px\"></tr>\n",
       "<tr class=\"athing\" id=\"34000131\">\n",
       "<td align=\"right\" class=\"title\" valign=\"top\"><span class=\"rank\">12.</span></td> <td class=\"votelinks\" valign=\"top\"><center><a href=\"vote?id=34000131&amp;how=up&amp;goto=active\" id=\"up_34000131\"><div class=\"votearrow\" title=\"upvote\"></div></a></center></td><td class=\"title\"><span class=\"titleline\"><a href=\"https://link.springer.com/article/10.1007/s00392-022-02129-5\">Autopsy-based characterization of myocarditis after anti-SARS-CoV-2-vaccination</a><span class=\"sitebit comhead\"> (<a href=\"from?site=springer.com\"><span class=\"sitestr\">springer.com</span></a>)</span></span></td></tr><tr><td colspan=\"2\"></td><td class=\"subtext\"><span class=\"subline\">\n",
       "<span class=\"score\" id=\"score_34000131\">474 points</span> by <a class=\"hnuser\" href=\"user?id=Octokiddie\">Octokiddie</a> <span class=\"age\" title=\"2022-12-15T14:38:52\"><a href=\"item?id=34000131\">1 day ago</a></span> <span id=\"unv_34000131\"></span> | <a href=\"item?id=34000131\">600 comments</a> </span>\n",
       "</td></tr>\n",
       "<tr class=\"spacer\" style=\"height:5px\"></tr>\n",
       "<tr class=\"athing\" id=\"34016553\">\n",
       "<td align=\"right\" class=\"title\" valign=\"top\"><span class=\"rank\">13.</span></td> <td class=\"votelinks\" valign=\"top\"><center><a href=\"vote?id=34016553&amp;how=up&amp;goto=active\" id=\"up_34016553\"><div class=\"votearrow\" title=\"upvote\"></div></a></center></td><td class=\"title\"><span class=\"titleline\"> [flagged] <a href=\"https://kottke.org/22/12/the-boring-conservatism-of-elon-musk\">The Boring Conservatism of Elon Musk</a><span class=\"sitebit comhead\"> (<a href=\"from?site=kottke.org\"><span class=\"sitestr\">kottke.org</span></a>)</span></span></td></tr><tr><td colspan=\"2\"></td><td class=\"subtext\"><span class=\"subline\">\n",
       "<span class=\"score\" id=\"score_34016553\">77 points</span> by <a class=\"hnuser\" href=\"user?id=te_chris\">te_chris</a> <span class=\"age\" title=\"2022-12-16T16:34:01\"><a href=\"item?id=34016553\">2 hours ago</a></span> <span id=\"unv_34016553\"></span> | <a href=\"item?id=34016553\">92 comments</a> </span>\n",
       "</td></tr>\n",
       "<tr class=\"spacer\" style=\"height:5px\"></tr>\n",
       "<tr class=\"athing\" id=\"33998112\">\n",
       "<td align=\"right\" class=\"title\" valign=\"top\"><span class=\"rank\">14.</span></td> <td class=\"votelinks\" valign=\"top\"><center><a href=\"vote?id=33998112&amp;how=up&amp;goto=active\" id=\"up_33998112\"><div class=\"votearrow\" title=\"upvote\"></div></a></center></td><td class=\"title\"><span class=\"titleline\"><a href=\"https://vmst.io/@selzero/109512557990367884\">Who knew the first AI battles would be fought by artists?</a><span class=\"sitebit comhead\"> (<a href=\"from?site=vmst.io\"><span class=\"sitestr\">vmst.io</span></a>)</span></span></td></tr><tr><td colspan=\"2\"></td><td class=\"subtext\"><span class=\"subline\">\n",
       "<span class=\"score\" id=\"score_33998112\">392 points</span> by <a class=\"hnuser\" href=\"user?id=dredmorbius\">dredmorbius</a> <span class=\"age\" title=\"2022-12-15T11:49:31\"><a href=\"item?id=33998112\">1 day ago</a></span> <span id=\"unv_33998112\"></span> | <a href=\"item?id=33998112\">804 comments</a> </span>\n",
       "</td></tr>\n",
       "<tr class=\"spacer\" style=\"height:5px\"></tr>\n",
       "<tr class=\"athing\" id=\"33999162\">\n",
       "<td align=\"right\" class=\"title\" valign=\"top\"><span class=\"rank\">15.</span></td> <td class=\"votelinks\" valign=\"top\"><center><a href=\"vote?id=33999162&amp;how=up&amp;goto=active\" id=\"up_33999162\"><div class=\"votearrow\" title=\"upvote\"></div></a></center></td><td class=\"title\"><span class=\"titleline\"><a href=\"https://www.riffusion.com/about\">Riffusion – Stable Diffusion fine-tuned to generate music</a><span class=\"sitebit comhead\"> (<a href=\"from?site=riffusion.com\"><span class=\"sitestr\">riffusion.com</span></a>)</span></span></td></tr><tr><td colspan=\"2\"></td><td class=\"subtext\"><span class=\"subline\">\n",
       "<span class=\"score\" id=\"score_33999162\">2312 points</span> by <a class=\"hnuser\" href=\"user?id=MitPitt\">MitPitt</a> <span class=\"age\" title=\"2022-12-15T13:26:04\"><a href=\"item?id=33999162\">1 day ago</a></span> <span id=\"unv_33999162\"></span> | <a href=\"item?id=33999162\">438 comments</a> </span>\n",
       "</td></tr>\n",
       "<tr class=\"spacer\" style=\"height:5px\"></tr>\n",
       "<tr class=\"athing\" id=\"34010970\">\n",
       "<td align=\"right\" class=\"title\" valign=\"top\"><span class=\"rank\">16.</span></td> <td class=\"votelinks\" valign=\"top\"><center><a href=\"vote?id=34010970&amp;how=up&amp;goto=active\" id=\"up_34010970\"><div class=\"votearrow\" title=\"upvote\"></div></a></center></td><td class=\"title\"><span class=\"titleline\"><a href=\"https://blog.jacobstoner.com/use-a-laptop-or-tablet-as-a-2nd-display-on-linux-with-a-dummy-monitor-and-rdp/\">Use a laptop as a 2nd display on Linux using FreeRDP</a><span class=\"sitebit comhead\"> (<a href=\"from?site=jacobstoner.com\"><span class=\"sitestr\">jacobstoner.com</span></a>)</span></span></td></tr><tr><td colspan=\"2\"></td><td class=\"subtext\"><span class=\"subline\">\n",
       "<span class=\"score\" id=\"score_34010970\">230 points</span> by <a class=\"hnuser\" href=\"user?id=jacob019\">jacob019</a> <span class=\"age\" title=\"2022-12-16T05:54:57\"><a href=\"item?id=34010970\">13 hours ago</a></span> <span id=\"unv_34010970\"></span> | <a href=\"item?id=34010970\">119 comments</a> </span>\n",
       "</td></tr>\n",
       "<tr class=\"spacer\" style=\"height:5px\"></tr>\n",
       "<tr class=\"athing\" id=\"34011972\">\n",
       "<td align=\"right\" class=\"title\" valign=\"top\"><span class=\"rank\">17.</span></td> <td class=\"votelinks\" valign=\"top\"><center><a href=\"vote?id=34011972&amp;how=up&amp;goto=active\" id=\"up_34011972\"><div class=\"votearrow\" title=\"upvote\"></div></a></center></td><td class=\"title\"><span class=\"titleline\"><a href=\"https://www.bulwer-lytton.com/2022\">Worst Opening Sentences of 2022</a><span class=\"sitebit comhead\"> (<a href=\"from?site=bulwer-lytton.com\"><span class=\"sitestr\">bulwer-lytton.com</span></a>)</span></span></td></tr><tr><td colspan=\"2\"></td><td class=\"subtext\"><span class=\"subline\">\n",
       "<span class=\"score\" id=\"score_34011972\">174 points</span> by <a class=\"hnuser\" href=\"user?id=downweight\">downweight</a> <span class=\"age\" title=\"2022-12-16T07:53:22\"><a href=\"item?id=34011972\">11 hours ago</a></span> <span id=\"unv_34011972\"></span> | <a href=\"item?id=34011972\">96 comments</a> </span>\n",
       "</td></tr>\n",
       "<tr class=\"spacer\" style=\"height:5px\"></tr>\n",
       "<tr class=\"athing\" id=\"34008064\">\n",
       "<td align=\"right\" class=\"title\" valign=\"top\"><span class=\"rank\">18.</span></td> <td class=\"votelinks\" valign=\"top\"><center><a href=\"vote?id=34008064&amp;how=up&amp;goto=active\" id=\"up_34008064\"><div class=\"votearrow\" title=\"upvote\"></div></a></center></td><td class=\"title\"><span class=\"titleline\"><a href=\"https://twitter.com/oneunderscore__/status/1603551884748460034\">Twitter is suspending journalists who cover Elon</a><span class=\"sitebit comhead\"> (<a href=\"from?site=twitter.com/oneunderscore__\"><span class=\"sitestr\">twitter.com/oneunderscore__</span></a>)</span></span></td></tr><tr><td colspan=\"2\"></td><td class=\"subtext\"><span class=\"subline\">\n",
       "<span class=\"score\" id=\"score_34008064\">244 points</span> by <a class=\"hnuser\" href=\"user?id=jacooper\">jacooper</a> <span class=\"age\" title=\"2022-12-16T00:56:05\"><a href=\"item?id=34008064\">18 hours ago</a></span> <span id=\"unv_34008064\"></span> | <a href=\"item?id=34008064\">180 comments</a> </span>\n",
       "</td></tr>\n",
       "<tr class=\"spacer\" style=\"height:5px\"></tr>\n",
       "<tr class=\"athing\" id=\"34000208\">\n",
       "<td align=\"right\" class=\"title\" valign=\"top\"><span class=\"rank\">19.</span></td> <td class=\"votelinks\" valign=\"top\"><center><a href=\"vote?id=34000208&amp;how=up&amp;goto=active\" id=\"up_34000208\"><div class=\"votearrow\" title=\"upvote\"></div></a></center></td><td class=\"title\"><span class=\"titleline\"><a href=\"https://singularityhub.com/2022/12/13/deepminds-alphacode-conquers-coding-performing-as-well-as-humans/\">Deepmind’s AlphaCode conquers coding, performing as well as humans</a><span class=\"sitebit comhead\"> (<a href=\"from?site=singularityhub.com\"><span class=\"sitestr\">singularityhub.com</span></a>)</span></span></td></tr><tr><td colspan=\"2\"></td><td class=\"subtext\"><span class=\"subline\">\n",
       "<span class=\"score\" id=\"score_34000208\">328 points</span> by <a class=\"hnuser\" href=\"user?id=Brajeshwar\">Brajeshwar</a> <span class=\"age\" title=\"2022-12-15T14:43:12\"><a href=\"item?id=34000208\">1 day ago</a></span> <span id=\"unv_34000208\"></span> | <a href=\"item?id=34000208\">523 comments</a> </span>\n",
       "</td></tr>\n",
       "<tr class=\"spacer\" style=\"height:5px\"></tr>\n",
       "<tr class=\"athing\" id=\"34006463\">\n",
       "<td align=\"right\" class=\"title\" valign=\"top\"><span class=\"rank\">20.</span></td> <td class=\"votelinks\" valign=\"top\"><center><a href=\"vote?id=34006463&amp;how=up&amp;goto=active\" id=\"up_34006463\"><div class=\"votearrow\" title=\"upvote\"></div></a></center></td><td class=\"title\"><span class=\"titleline\"><a href=\"https://oschvr.com/posts/what-id-like-as-sre/\">Things I want from Devs as SRE/DevOps</a><span class=\"sitebit comhead\"> (<a href=\"from?site=oschvr.com\"><span class=\"sitestr\">oschvr.com</span></a>)</span></span></td></tr><tr><td colspan=\"2\"></td><td class=\"subtext\"><span class=\"subline\">\n",
       "<span class=\"score\" id=\"score_34006463\">186 points</span> by <a class=\"hnuser\" href=\"user?id=oschvr\">oschvr</a> <span class=\"age\" title=\"2022-12-15T22:04:20\"><a href=\"item?id=34006463\">21 hours ago</a></span> <span id=\"unv_34006463\"></span> | <a href=\"item?id=34006463\">137 comments</a> </span>\n",
       "</td></tr>\n",
       "<tr class=\"spacer\" style=\"height:5px\"></tr>\n",
       "<tr class=\"athing\" id=\"34015885\">\n",
       "<td align=\"right\" class=\"title\" valign=\"top\"><span class=\"rank\">21.</span></td> <td class=\"votelinks\" valign=\"top\"><center><a href=\"vote?id=34015885&amp;how=up&amp;goto=active\" id=\"up_34015885\"><div class=\"votearrow\" title=\"upvote\"></div></a></center></td><td class=\"title\"><span class=\"titleline\"><a href=\"https://www.cnbc.com/2022/12/16/ford-f-150-lightning-electric-pickup-gets-another-price-hike.html\">Ford again hikes the starting price of the F150 Lighting now up 40% since launch</a><span class=\"sitebit comhead\"> (<a href=\"from?site=cnbc.com\"><span class=\"sitestr\">cnbc.com</span></a>)</span></span></td></tr><tr><td colspan=\"2\"></td><td class=\"subtext\"><span class=\"subline\">\n",
       "<span class=\"score\" id=\"score_34015885\">54 points</span> by <a class=\"hnuser\" href=\"user?id=tiahura\">tiahura</a> <span class=\"age\" title=\"2022-12-16T15:48:53\"><a href=\"item?id=34015885\">3 hours ago</a></span> <span id=\"unv_34015885\"></span> | <a href=\"item?id=34015885\">73 comments</a> </span>\n",
       "</td></tr>\n",
       "<tr class=\"spacer\" style=\"height:5px\"></tr>\n",
       "<tr class=\"athing\" id=\"34006622\">\n",
       "<td align=\"right\" class=\"title\" valign=\"top\"><span class=\"rank\">22.</span></td> <td class=\"votelinks\" valign=\"top\"><center><a href=\"vote?id=34006622&amp;how=up&amp;goto=active\" id=\"up_34006622\"><div class=\"votearrow\" title=\"upvote\"></div></a></center></td><td class=\"title\"><span class=\"titleline\"><a href=\"https://webkit.org/blog/13607/help-choose-from-options-for-css-nesting-syntax/\">Help choose the syntax for CSS Nesting</a><span class=\"sitebit comhead\"> (<a href=\"from?site=webkit.org\"><span class=\"sitestr\">webkit.org</span></a>)</span></span></td></tr><tr><td colspan=\"2\"></td><td class=\"subtext\"><span class=\"subline\">\n",
       "<span class=\"score\" id=\"score_34006622\">98 points</span> by <a class=\"hnuser\" href=\"user?id=feross\">feross</a> <span class=\"age\" title=\"2022-12-15T22:19:18\"><a href=\"item?id=34006622\">21 hours ago</a></span> <span id=\"unv_34006622\"></span> | <a href=\"item?id=34006622\">148 comments</a> </span>\n",
       "</td></tr>\n",
       "<tr class=\"spacer\" style=\"height:5px\"></tr>\n",
       "<tr class=\"athing\" id=\"34017070\">\n",
       "<td align=\"right\" class=\"title\" valign=\"top\"><span class=\"rank\">23.</span></td> <td class=\"votelinks\" valign=\"top\"><center><a href=\"vote?id=34017070&amp;how=up&amp;goto=active\" id=\"up_34017070\"><div class=\"votearrow\" title=\"upvote\"></div></a></center></td><td class=\"title\"><span class=\"titleline\"><a href=\"https://www.wsj.com/articles/weworks-once-robust-cash-reserves-have-dwindled-raising-chances-of-default-11670905533\">WeWork’s Once Robust Cash Reserves Have Dwindled, Raising Chances of Default</a><span class=\"sitebit comhead\"> (<a href=\"from?site=wsj.com\"><span class=\"sitestr\">wsj.com</span></a>)</span></span></td></tr><tr><td colspan=\"2\"></td><td class=\"subtext\"><span class=\"subline\">\n",
       "<span class=\"score\" id=\"score_34017070\">69 points</span> by <a class=\"hnuser\" href=\"user?id=lxm\">lxm</a> <span class=\"age\" title=\"2022-12-16T17:06:26\"><a href=\"item?id=34017070\">2 hours ago</a></span> <span id=\"unv_34017070\"></span> | <a href=\"item?id=34017070\">66 comments</a> </span>\n",
       "</td></tr>\n",
       "<tr class=\"spacer\" style=\"height:5px\"></tr>\n",
       "<tr class=\"athing\" id=\"34004822\">\n",
       "<td align=\"right\" class=\"title\" valign=\"top\"><span class=\"rank\">24.</span></td> <td class=\"votelinks\" valign=\"top\"><center><a href=\"vote?id=34004822&amp;how=up&amp;goto=active\" id=\"up_34004822\"><div class=\"votearrow\" title=\"upvote\"></div></a></center></td><td class=\"title\"><span class=\"titleline\"><a href=\"https://www.nytimes.com/2022/12/15/style/teens-social-media.html\">‘Luddite’ Teens</a><span class=\"sitebit comhead\"> (<a href=\"from?site=nytimes.com\"><span class=\"sitestr\">nytimes.com</span></a>)</span></span></td></tr><tr><td colspan=\"2\"></td><td class=\"subtext\"><span class=\"subline\">\n",
       "<span class=\"score\" id=\"score_34004822\">91 points</span> by <a class=\"hnuser\" href=\"user?id=Kaibeezy\">Kaibeezy</a> <span class=\"age\" title=\"2022-12-15T19:59:06\"><a href=\"item?id=34004822\">10 hours ago</a></span> <span id=\"unv_34004822\"></span> | <a href=\"item?id=34004822\">65 comments</a> </span>\n",
       "</td></tr>\n",
       "<tr class=\"spacer\" style=\"height:5px\"></tr>\n",
       "<tr class=\"athing\" id=\"34013754\">\n",
       "<td align=\"right\" class=\"title\" valign=\"top\"><span class=\"rank\">25.</span></td> <td class=\"votelinks\" valign=\"top\"><center><a href=\"vote?id=34013754&amp;how=up&amp;goto=active\" id=\"up_34013754\"><div class=\"votearrow\" title=\"upvote\"></div></a></center></td><td class=\"title\"><span class=\"titleline\"><a href=\"item?id=34013754\">Ask HN: What are good self hosted time tracking software for consultants?</a></span></td></tr><tr><td colspan=\"2\"></td><td class=\"subtext\"><span class=\"subline\">\n",
       "<span class=\"score\" id=\"score_34013754\">60 points</span> by <a class=\"hnuser\" href=\"user?id=thepra\">thepra</a> <span class=\"age\" title=\"2022-12-16T12:19:38\"><a href=\"item?id=34013754\">7 hours ago</a></span> <span id=\"unv_34013754\"></span> | <a href=\"item?id=34013754\">75 comments</a> </span>\n",
       "</td></tr>\n",
       "<tr class=\"spacer\" style=\"height:5px\"></tr>\n",
       "<tr class=\"athing\" id=\"33999975\">\n",
       "<td align=\"right\" class=\"title\" valign=\"top\"><span class=\"rank\">26.</span></td> <td class=\"votelinks\" valign=\"top\"><center><a href=\"vote?id=33999975&amp;how=up&amp;goto=active\" id=\"up_33999975\"><div class=\"votearrow\" title=\"upvote\"></div></a></center></td><td class=\"title\"><span class=\"titleline\"><a href=\"https://gizmodo.com/glasses-fog-anti-no-fog-without-spray-heating-gold-laye-1849887511\">A thin gold layer could be the secret to glasses that don't fog</a><span class=\"sitebit comhead\"> (<a href=\"from?site=gizmodo.com\"><span class=\"sitestr\">gizmodo.com</span></a>)</span></span></td></tr><tr><td colspan=\"2\"></td><td class=\"subtext\"><span class=\"subline\">\n",
       "<span class=\"score\" id=\"score_33999975\">96 points</span> by <a class=\"hnuser\" href=\"user?id=thunderbong\">thunderbong</a> <span class=\"age\" title=\"2022-12-15T14:29:15\"><a href=\"item?id=33999975\">14 hours ago</a></span> <span id=\"unv_33999975\"></span> | <a href=\"item?id=33999975\">95 comments</a> </span>\n",
       "</td></tr>\n",
       "<tr class=\"spacer\" style=\"height:5px\"></tr>\n",
       "<tr class=\"athing\" id=\"34002526\">\n",
       "<td align=\"right\" class=\"title\" valign=\"top\"><span class=\"rank\">27.</span></td> <td class=\"votelinks\" valign=\"top\"><center><a href=\"vote?id=34002526&amp;how=up&amp;goto=active\" id=\"up_34002526\"><div class=\"votearrow\" title=\"upvote\"></div></a></center></td><td class=\"title\"><span class=\"titleline\"><a href=\"https://lichess.org/@/thibault/blog/lichess--scala-3/y1sbYzJX\">Lichess gets a big upgrade. It doesn't go as planned</a><span class=\"sitebit comhead\"> (<a href=\"from?site=lichess.org\"><span class=\"sitestr\">lichess.org</span></a>)</span></span></td></tr><tr><td colspan=\"2\"></td><td class=\"subtext\"><span class=\"subline\">\n",
       "<span class=\"score\" id=\"score_34002526\">466 points</span> by <a class=\"hnuser\" href=\"user?id=_fizz_buzz_\">_fizz_buzz_</a> <span class=\"age\" title=\"2022-12-15T17:07:58\"><a href=\"item?id=34002526\">1 day ago</a></span> <span id=\"unv_34002526\"></span> | <a href=\"item?id=34002526\">206 comments</a> </span>\n",
       "</td></tr>\n",
       "<tr class=\"spacer\" style=\"height:5px\"></tr>\n",
       "<tr class=\"athing\" id=\"34014118\">\n",
       "<td align=\"right\" class=\"title\" valign=\"top\"><span class=\"rank\">28.</span></td> <td class=\"votelinks\" valign=\"top\"><center><a href=\"vote?id=34014118&amp;how=up&amp;goto=active\" id=\"up_34014118\"><div class=\"votearrow\" title=\"upvote\"></div></a></center></td><td class=\"title\"><span class=\"titleline\"><a href=\"https://buildwithhubs.co.uk/\">Geodesic Domes Made Simple</a><span class=\"sitebit comhead\"> (<a href=\"from?site=buildwithhubs.co.uk\"><span class=\"sitestr\">buildwithhubs.co.uk</span></a>)</span></span></td></tr><tr><td colspan=\"2\"></td><td class=\"subtext\"><span class=\"subline\">\n",
       "<span class=\"score\" id=\"score_34014118\">118 points</span> by <a class=\"hnuser\" href=\"user?id=mooreds\">mooreds</a> <span class=\"age\" title=\"2022-12-16T13:08:39\"><a href=\"item?id=34014118\">6 hours ago</a></span> <span id=\"unv_34014118\"></span> | <a href=\"item?id=34014118\">66 comments</a> </span>\n",
       "</td></tr>\n",
       "<tr class=\"spacer\" style=\"height:5px\"></tr>\n",
       "<tr class=\"athing\" id=\"34013423\">\n",
       "<td align=\"right\" class=\"title\" valign=\"top\"><span class=\"rank\">29.</span></td> <td class=\"votelinks\" valign=\"top\"><center><a href=\"vote?id=34013423&amp;how=up&amp;goto=active\" id=\"up_34013423\"><div class=\"votearrow\" title=\"upvote\"></div></a></center></td><td class=\"title\"><span class=\"titleline\"> [flagged] <a href=\"https://somereverie.substack.com/p/binance-is-fucked\">Binance is fucked</a><span class=\"sitebit comhead\"> (<a href=\"from?site=somereverie.substack.com\"><span class=\"sitestr\">somereverie.substack.com</span></a>)</span></span></td></tr><tr><td colspan=\"2\"></td><td class=\"subtext\"><span class=\"subline\">\n",
       "<span class=\"score\" id=\"score_34013423\">85 points</span> by <a class=\"hnuser\" href=\"user?id=dcawrey\">dcawrey</a> <span class=\"age\" title=\"2022-12-16T11:34:51\"><a href=\"item?id=34013423\">7 hours ago</a></span> <span id=\"unv_34013423\"></span> | <a href=\"item?id=34013423\">83 comments</a> </span>\n",
       "</td></tr>\n",
       "<tr class=\"spacer\" style=\"height:5px\"></tr>\n",
       "<tr class=\"athing\" id=\"34014515\">\n",
       "<td align=\"right\" class=\"title\" valign=\"top\"><span class=\"rank\">30.</span></td> <td class=\"votelinks\" valign=\"top\"><center><a href=\"vote?id=34014515&amp;how=up&amp;goto=active\" id=\"up_34014515\"><div class=\"votearrow\" title=\"upvote\"></div></a></center></td><td class=\"title\"><span class=\"titleline\"><a href=\"https://candyusa.com/news/research-reveals-ways-lead-and-cadmium-in-chocolate-may-be-reduced/\">Research reveals ways lead and cadmium in chocolate may be reduced</a><span class=\"sitebit comhead\"> (<a href=\"from?site=candyusa.com\"><span class=\"sitestr\">candyusa.com</span></a>)</span></span></td></tr><tr><td colspan=\"2\"></td><td class=\"subtext\"><span class=\"subline\">\n",
       "<span class=\"score\" id=\"score_34014515\">105 points</span> by <a class=\"hnuser\" href=\"user?id=maerF0x0\">maerF0x0</a> <span class=\"age\" title=\"2022-12-16T14:01:16\"><a href=\"item?id=34014515\">5 hours ago</a></span> <span id=\"unv_34014515\"></span> | <a href=\"item?id=34014515\">67 comments</a> </span>\n",
       "</td></tr>\n",
       "<tr class=\"spacer\" style=\"height:5px\"></tr>\n",
       "<tr class=\"morespace\" style=\"height:10px\"></tr><tr><td colspan=\"2\"></td>\n",
       "<td class=\"title\"><a class=\"morelink\" href=\"active?p=2\" rel=\"next\">More</a></td> </tr>\n",
       "</table>"
      ]
     },
     "execution_count": 5,
     "metadata": {},
     "output_type": "execute_result"
    }
   ],
   "source": [
    "soup.find_all('table')[2]"
   ]
  },
  {
   "cell_type": "code",
   "execution_count": 7,
   "metadata": {},
   "outputs": [],
   "source": [
    "t = soup.find_all('table')[2]"
   ]
  },
  {
   "cell_type": "code",
   "execution_count": 17,
   "metadata": {},
   "outputs": [
    {
     "data": {
      "text/plain": [
       "'https://www.washingtonpost.com/media/2022/12/15/twitter-journalists-suspended-musk/'"
      ]
     },
     "execution_count": 17,
     "metadata": {},
     "output_type": "execute_result"
    }
   ],
   "source": [
    "# get 'link' for first story\n",
    "links = []\n",
    "for i in range(30):\n",
    "    main_table = soup.find_all('table')[2]\n",
    "    trs = main_table.find_all('tr')\n",
    "    headline = trs[i]\n",
    "    info = trs[i+1]\n",
    "    headline_link = headline.find_all('a')[1]\n",
    "    link = headline_link.attrs['href']\n",
    "    \n",
    "    links.append(link) \n",
    "\n",
    "links"
   ]
  },
  {
   "cell_type": "code",
   "execution_count": 13,
   "metadata": {},
   "outputs": [],
   "source": [
    "headline_link = headline.find_all('a')[1]"
   ]
  },
  {
   "cell_type": "code",
   "execution_count": 15,
   "metadata": {},
   "outputs": [
    {
     "data": {
      "text/plain": [
       "'https://www.washingtonpost.com/media/2022/12/15/twitter-journalists-suspended-musk/'"
      ]
     },
     "execution_count": 15,
     "metadata": {},
     "output_type": "execute_result"
    }
   ],
   "source": [
    "headline_link.attrs['href'] "
   ]
  },
  {
   "cell_type": "code",
   "execution_count": 10,
   "metadata": {},
   "outputs": [
    {
     "data": {
      "text/plain": [
       "<tr class=\"spacer\" style=\"height:5px\"></tr>"
      ]
     },
     "execution_count": 10,
     "metadata": {},
     "output_type": "execute_result"
    }
   ],
   "source": [
    "trs[2]"
   ]
  },
  {
   "cell_type": "code",
   "execution_count": null,
   "metadata": {},
   "outputs": [],
   "source": []
  }
 ],
 "metadata": {
  "kernelspec": {
   "display_name": "base",
   "language": "python",
   "name": "python3"
  },
  "language_info": {
   "codemirror_mode": {
    "name": "ipython",
    "version": 3
   },
   "file_extension": ".py",
   "mimetype": "text/x-python",
   "name": "python",
   "nbconvert_exporter": "python",
   "pygments_lexer": "ipython3",
   "version": "3.9.13 (main, Aug 25 2022, 23:51:50) [MSC v.1916 64 bit (AMD64)]"
  },
  "orig_nbformat": 4,
  "vscode": {
   "interpreter": {
    "hash": "1643639e6d89f06a3b88736f47d07c6c9b55a5b70383cc3272fa94752bd05ca9"
   }
  }
 },
 "nbformat": 4,
 "nbformat_minor": 2
}
